{
 "cells": [
  {
   "cell_type": "code",
   "execution_count": 3,
   "id": "18eb2b2b-ba04-4bc5-833b-fe0ab92ee0ae",
   "metadata": {},
   "outputs": [
    {
     "name": "stdout",
     "output_type": "stream",
     "text": [
      "hello world\n"
     ]
    }
   ],
   "source": [
    "print('hello world2')"
   ]
  },
  {
   "cell_type": "code",
   "execution_count": 2,
   "metadata": {},
   "outputs": [
    {
     "name": "stdout",
     "output_type": "stream",
     "text": [
      "akdjhfsakjdnskjadng\n"
     ]
    }
   ],
   "source": [
    "print(\"akdjhfsakjdnskjadng\")"
   ]
  },
  {
   "cell_type": "code",
   "execution_count": 1,
   "metadata": {},
   "outputs": [
    {
     "name": "stdout",
     "output_type": "stream",
     "text": [
      "nizar test madafakas\n"
     ]
    }
   ],
   "source": [
    "print(\"nizar test madafakas\")"
   ]
  }
 ],
 "metadata": {
  "interpreter": {
   "hash": "b075bfb16a26ad69680fc8d3815a78825ef53b3e6ff493812f6f9a99cafbb58b"
  },
  "kernelspec": {
   "display_name": "Python 3.9.7 64-bit (windows store)",
   "name": "python3"
  },
  "language_info": {
   "codemirror_mode": {
    "name": "ipython",
    "version": 3
   },
   "file_extension": ".py",
   "mimetype": "text/x-python",
   "name": "python",
   "nbconvert_exporter": "python",
   "pygments_lexer": "ipython3",
   "version": "3.9.7"
  }
 },
 "nbformat": 4,
 "nbformat_minor": 5
}
