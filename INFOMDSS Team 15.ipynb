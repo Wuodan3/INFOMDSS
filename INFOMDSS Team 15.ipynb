{
 "cells": [
  {
   "cell_type": "code",
   "execution_count": 8,
   "id": "18eb2b2b-ba04-4bc5-833b-fe0ab92ee0ae",
   "metadata": {},
   "outputs": [
    {
     "name": "stdout",
     "output_type": "stream",
     "text": [
      "kaas 3.0\n"
     ]
    }
   ],
   "source": [
    "print('kaas 3.0')"
   ]
  },
  {
   "cell_type": "code",
   "execution_count": 5,
   "metadata": {},
   "outputs": [
    {
     "name": "stdout",
     "output_type": "stream",
     "text": [
      "akdjhfsakjdnskjadng\n"
     ]
    }
   ],
   "source": [
    "print(\"akdjhfsakjdnskjadng\")"
   ]
  },
  {
   "cell_type": "code",
   "execution_count": 6,
   "metadata": {},
   "outputs": [
    {
     "name": "stdout",
     "output_type": "stream",
     "text": [
      "nizar test madafakas\n"
     ]
    }
   ],
   "source": [
    "print(\"nizar test madafakas\")"
   ]
  },
  {
   "cell_type": "code",
   "execution_count": 7,
   "metadata": {},
   "outputs": [
    {
     "name": "stdout",
     "output_type": "stream",
     "text": [
      "test 2\n"
     ]
    }
   ],
   "source": [
    "print(\"test 2\")"
   ]
  },
  {
   "cell_type": "code",
   "execution_count": 7,
   "metadata": {},
   "outputs": [
    {
     "name": "stdout",
     "output_type": "stream",
     "text": [
      "<class 'pandas.core.frame.DataFrame'>\n",
      "RangeIndex: 125965 entries, 0 to 125964\n",
      "Data columns (total 65 columns):\n",
      " #   Column                                   Non-Null Count   Dtype  \n",
      "---  ------                                   --------------   -----  \n",
      " 0   iso_code                                 125965 non-null  object \n",
      " 1   continent                                120261 non-null  object \n",
      " 2   location                                 125965 non-null  object \n",
      " 3   date                                     125965 non-null  object \n",
      " 4   total_cases                              119154 non-null  float64\n",
      " 5   new_cases                                119150 non-null  float64\n",
      " 6   new_cases_smoothed                       118136 non-null  float64\n",
      " 7   total_deaths                             108218 non-null  float64\n",
      " 8   new_deaths                               108371 non-null  float64\n",
      " 9   new_deaths_smoothed                      118136 non-null  float64\n",
      " 10  total_cases_per_million                  118528 non-null  float64\n",
      " 11  new_cases_per_million                    118524 non-null  float64\n",
      " 12  new_cases_smoothed_per_million           117515 non-null  float64\n",
      " 13  total_deaths_per_million                 107605 non-null  float64\n",
      " 14  new_deaths_per_million                   107758 non-null  float64\n",
      " 15  new_deaths_smoothed_per_million          117515 non-null  float64\n",
      " 16  reproduction_rate                        101466 non-null  float64\n",
      " 17  icu_patients                             15397 non-null   float64\n",
      " 18  icu_patients_per_million                 15397 non-null   float64\n",
      " 19  hosp_patients                            17481 non-null   float64\n",
      " 20  hosp_patients_per_million                17481 non-null   float64\n",
      " 21  weekly_icu_admissions                    1294 non-null    float64\n",
      " 22  weekly_icu_admissions_per_million        1294 non-null    float64\n",
      " 23  weekly_hosp_admissions                   2260 non-null    float64\n",
      " 24  weekly_hosp_admissions_per_million       2260 non-null    float64\n",
      " 25  new_tests                                53743 non-null   float64\n",
      " 26  total_tests                              53895 non-null   float64\n",
      " 27  total_tests_per_thousand                 53895 non-null   float64\n",
      " 28  new_tests_per_thousand                   53743 non-null   float64\n",
      " 29  new_tests_smoothed                       64886 non-null   float64\n",
      " 30  new_tests_smoothed_per_thousand          64886 non-null   float64\n",
      " 31  positive_rate                            60954 non-null   float64\n",
      " 32  tests_per_case                           60311 non-null   float64\n",
      " 33  tests_units                              66853 non-null   object \n",
      " 34  total_vaccinations                       29988 non-null   float64\n",
      " 35  people_vaccinated                        28648 non-null   float64\n",
      " 36  people_fully_vaccinated                  25552 non-null   float64\n",
      " 37  total_boosters                           4281 non-null    float64\n",
      " 38  new_vaccinations                         24764 non-null   float64\n",
      " 39  new_vaccinations_smoothed                54095 non-null   float64\n",
      " 40  total_vaccinations_per_hundred           29988 non-null   float64\n",
      " 41  people_vaccinated_per_hundred            28648 non-null   float64\n",
      " 42  people_fully_vaccinated_per_hundred      25552 non-null   float64\n",
      " 43  total_boosters_per_hundred               4281 non-null    float64\n",
      " 44  new_vaccinations_smoothed_per_million    54095 non-null   float64\n",
      " 45  stringency_index                         104707 non-null  float64\n",
      " 46  population                               125057 non-null  float64\n",
      " 47  population_density                       116338 non-null  float64\n",
      " 48  median_age                               111008 non-null  float64\n",
      " 49  aged_65_older                            109778 non-null  float64\n",
      " 50  aged_70_older                            110401 non-null  float64\n",
      " 51  gdp_per_capita                           111684 non-null  float64\n",
      " 52  extreme_poverty                          74731 non-null   float64\n",
      " 53  cardiovasc_death_rate                    111279 non-null  float64\n",
      " 54  diabetes_prevalence                      114801 non-null  float64\n",
      " 55  female_smokers                           86705 non-null   float64\n",
      " 56  male_smokers                             85449 non-null   float64\n",
      " 57  handwashing_facilities                   56003 non-null   float64\n",
      " 58  hospital_beds_per_thousand               101152 non-null  float64\n",
      " 59  life_expectancy                          119460 non-null  float64\n",
      " 60  human_development_index                  111373 non-null  float64\n",
      " 61  excess_mortality_cumulative_absolute     4563 non-null    float64\n",
      " 62  excess_mortality_cumulative              4563 non-null    float64\n",
      " 63  excess_mortality                         4563 non-null    float64\n",
      " 64  excess_mortality_cumulative_per_million  4563 non-null    float64\n",
      "dtypes: float64(60), object(5)\n",
      "memory usage: 62.5+ MB\n"
     ]
    }
   ],
   "source": [
    "import pandas as pd\n",
    "\n",
    "data = pd.read_csv(\"https://covid.ourworldindata.org/data/owid-covid-data.csv\") # downloads file from url\n",
    "#stingency_index = column 45 \n",
    "data.info(0)"
   ]
  },
  {
   "cell_type": "code",
   "execution_count": null,
   "metadata": {},
   "outputs": [],
   "source": []
  },
  {
   "cell_type": "markdown",
   "metadata": {},
   "source": [
    "#Use this only to test stuff data loading, cleaning goes in data.py\n"
   ]
  },
  {
   "cell_type": "markdown",
   "metadata": {},
   "source": []
  }
 ],
 "metadata": {
  "interpreter": {
   "hash": "aee8b7b246df8f9039afb4144a1f6fd8d2ca17a180786b69acc140d282b71a49"
  },
  "kernelspec": {
   "display_name": "Python 3.9.7 64-bit",
   "name": "python3"
  },
  "language_info": {
   "codemirror_mode": {
    "name": "ipython",
    "version": 3
   },
   "file_extension": ".py",
   "mimetype": "text/x-python",
   "name": "python",
   "nbconvert_exporter": "python",
   "pygments_lexer": "ipython3",
   "version": "3.9.7"
  }
 },
 "nbformat": 4,
 "nbformat_minor": 5
}
